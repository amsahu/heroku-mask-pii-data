{
 "cells": [
  {
   "cell_type": "code",
   "execution_count": 34,
   "id": "692d3a4b",
   "metadata": {},
   "outputs": [],
   "source": [
    "import os\n",
    "import numpy as np\n",
    "import pandas as pd\n",
    "import spacy\n",
    "import plac\n",
    "import random\n",
    "from pathlib import Path\n",
    "from tqdm import tqdm\n",
    "import time\n",
    "from datetime import datetime"
   ]
  },
  {
   "cell_type": "markdown",
   "id": "f33a6d25",
   "metadata": {},
   "source": [
    "# Functions"
   ]
  },
  {
   "cell_type": "code",
   "execution_count": 4,
   "id": "f8d85094",
   "metadata": {},
   "outputs": [],
   "source": [
    "def write_data(data_list:list, file_name:str):\n",
    "    \n",
    "    \"\"\"Takes list of data and file name, creates and writes the file\"\"\"\n",
    "    \n",
    "    with open(file_name, 'w') as file:\n",
    "        for data in data_list:\n",
    "            file.write(str(data)+'\\n')"
   ]
  },
  {
   "cell_type": "code",
   "execution_count": 5,
   "id": "cb4ecff9",
   "metadata": {},
   "outputs": [],
   "source": [
    "def load_train_data(file_name:str, label:str):\n",
    "    \n",
    "    \"\"\"load train data from file file_name and assign label\n",
    "    return training data as list for spacy\"\"\"\n",
    "    \n",
    "    if (label.upper()=='NONE'):\n",
    "        data_list = []\n",
    "        with open(file_name,'r') as file:\n",
    "            for line in file.readlines():\n",
    "                text = line.strip()\n",
    "                data_list.append((text, {'entities': []}))\n",
    "            file.close()\n",
    "        return data_list\n",
    "    \n",
    "    else:\n",
    "        data_list = []\n",
    "        with open(file_name,'r') as file:\n",
    "            for line in file.readlines():\n",
    "                text = line.strip()\n",
    "                data_list.append((text, {'entities': [(0,len(text),label.upper())]}))\n",
    "            file.close()\n",
    "        return data_list\n",
    "    "
   ]
  },
  {
   "cell_type": "code",
   "execution_count": 6,
   "id": "c89f7373",
   "metadata": {},
   "outputs": [],
   "source": [
    "def load_test_data(file:str, true_label:str):\n",
    "    \n",
    "    \"\"\"load test data from file and return df\"\"\"\n",
    "    \n",
    "    test_data_ls=[]\n",
    "    with open(file, 'r') as f:\n",
    "        for line in f.readlines():\n",
    "            test_data_ls.append(line.strip())\n",
    "        f.close()\n",
    "    df = pd.DataFrame({'data':test_data_ls, 'true_label':true_label.upper()})\n",
    "    return df"
   ]
  },
  {
   "cell_type": "markdown",
   "id": "10242085",
   "metadata": {},
   "source": [
    "# Train data"
   ]
  },
  {
   "cell_type": "code",
   "execution_count": 92,
   "id": "d0aaafc6",
   "metadata": {
    "scrolled": false
   },
   "outputs": [
    {
     "name": "stdout",
     "output_type": "stream",
     "text": [
      "1700\n",
      "[('2 RECTOR STREET NEW YORK NY 10006', {'entities': [(0, 33, 'ADDR')]}), ('115 S. LASALLE ST. CHICAGO', {'entities': [(0, 26, 'ADDR')]}), ('1818 State Route 3, Fulton NY 13069', {'entities': [(0, 35, 'ADDR')]}), ('P.O. Box 929 4189 Nunc Road, Lebanon KY 69409', {'entities': [(0, 45, 'ADDR')]}), ('3535 CANAL STREET NEW ORLEANS 70119', {'entities': [(0, 35, 'ADDR')]}), ('6140A Univ Drive, Huntsville AL 35806', {'entities': [(0, 37, 'ADDR')]}), ('5949 SHERRY LANE  SUITE 1500 DALLAS TX 75225', {'entities': [(0, 44, 'ADDR')]}), ('5050 POPLAR AVE., STE 1430 NJ 7044', {'entities': [(0, 34, 'ADDR')]}), ('589 5TH AVENUE NEW YORK NY 10017', {'entities': [(0, 32, 'ADDR')]}), ('701 Mcmeans Ave, Bay Minette AL 36507', {'entities': [(0, 37, 'ADDR')]})]\n",
      "1300\n",
      "[('Lauren_Campagne@gmail.com', {'entities': [(0, 25, 'EMAIL')]}), ('Edward_Briere@gmail.com', {'entities': [(0, 23, 'EMAIL')]}), ('Phillip_Dedmond@gmail.com', {'entities': [(0, 25, 'EMAIL')]}), ('Frank_Dent318@yahoo.com', {'entities': [(0, 23, 'EMAIL')]}), ('James_Briere@gmail.com', {'entities': [(0, 22, 'EMAIL')]}), ('John.Morrow@gmail.com', {'entities': [(0, 21, 'EMAIL')]}), ('Heather716@hotmail.com', {'entities': [(0, 22, 'EMAIL')]}), ('John.Chin976@yahoo.com', {'entities': [(0, 22, 'EMAIL')]}), ('Anne738@hotmail.com', {'entities': [(0, 19, 'EMAIL')]}), ('Thomas501@gmail.com', {'entities': [(0, 19, 'EMAIL')]})]\n",
      "2200\n",
      "[('SHEPARDSON STERN & KAMINSKY', {'entities': []}), ('QUOTRON MANAGEMENT', {'entities': []}), ('Allison', {'entities': []}), ('SUTRO AND COMPANY', {'entities': []}), ('Alvares', {'entities': []}), ('TRW', {'entities': []}), ('29640', {'entities': []}), ('10110472', {'entities': []}), ('27/08/1984', {'entities': []}), ('10110324', {'entities': []})]\n",
      "1500\n",
      "[('+4.(883) 986.6617', {'entities': [(0, 17, 'PHONE')]}), ('+7.816.188-9275', {'entities': [(0, 15, 'PHONE')]}), ('(811).923 6111', {'entities': [(0, 14, 'PHONE')]}), ('(055)-674-1460', {'entities': [(0, 14, 'PHONE')]}), ('+8 885 088.1910', {'entities': [(0, 15, 'PHONE')]}), ('+2 372 588 1046', {'entities': [(0, 15, 'PHONE')]}), ('+1.344-527 5486', {'entities': [(0, 15, 'PHONE')]}), ('(596)-701-3989', {'entities': [(0, 14, 'PHONE')]}), ('508-584-4279', {'entities': [(0, 12, 'PHONE')]}), ('+5 753-026.1164', {'entities': [(0, 15, 'PHONE')]})]\n"
     ]
    }
   ],
   "source": [
    "train_addr = load_train_data('train\\\\train_addr.txt','addr')\n",
    "train_email = load_train_data('train\\\\train_email.txt','email')\n",
    "train_none = load_train_data('train\\\\train_none.txt','none')\n",
    "train_phone = load_train_data('train\\\\train_phone.txt','phone')\n",
    "\n",
    "print(len(train_addr))\n",
    "print(train_addr[:10])\n",
    "print(len(train_email))\n",
    "print(train_email[:10])\n",
    "print(len(train_none))\n",
    "print(train_none[:10])\n",
    "print(len(train_phone))\n",
    "print(train_phone[:10])"
   ]
  },
  {
   "cell_type": "code",
   "execution_count": 93,
   "id": "add772b6",
   "metadata": {
    "scrolled": true
   },
   "outputs": [
    {
     "name": "stdout",
     "output_type": "stream",
     "text": [
      "6700\n"
     ]
    },
    {
     "data": {
      "text/plain": [
       "[('2 RECTOR STREET NEW YORK NY 10006', {'entities': [(0, 33, 'ADDR')]}),\n",
       " ('115 S. LASALLE ST. CHICAGO', {'entities': [(0, 26, 'ADDR')]}),\n",
       " ('1818 State Route 3, Fulton NY 13069', {'entities': [(0, 35, 'ADDR')]}),\n",
       " ('P.O. Box 929 4189 Nunc Road, Lebanon KY 69409',\n",
       "  {'entities': [(0, 45, 'ADDR')]}),\n",
       " ('3535 CANAL STREET NEW ORLEANS 70119', {'entities': [(0, 35, 'ADDR')]}),\n",
       " ('6140A Univ Drive, Huntsville AL 35806', {'entities': [(0, 37, 'ADDR')]}),\n",
       " ('5949 SHERRY LANE  SUITE 1500 DALLAS TX 75225',\n",
       "  {'entities': [(0, 44, 'ADDR')]}),\n",
       " ('5050 POPLAR AVE., STE 1430 NJ 7044', {'entities': [(0, 34, 'ADDR')]}),\n",
       " ('589 5TH AVENUE NEW YORK NY 10017', {'entities': [(0, 32, 'ADDR')]}),\n",
       " ('701 Mcmeans Ave, Bay Minette AL 36507', {'entities': [(0, 37, 'ADDR')]})]"
      ]
     },
     "execution_count": 93,
     "metadata": {},
     "output_type": "execute_result"
    }
   ],
   "source": [
    "TRAIN_DATA = train_addr + train_email + train_none + train_phone\n",
    "\n",
    "print(len(TRAIN_DATA))\n",
    "TRAIN_DATA[:10]"
   ]
  },
  {
   "cell_type": "code",
   "execution_count": 94,
   "id": "8ed5b0f6",
   "metadata": {},
   "outputs": [
    {
     "data": {
      "text/plain": [
       "[('399.670-0945', {'entities': [(0, 12, 'PHONE')]}),\n",
       " ('+3(558) 904.1728', {'entities': [(0, 16, 'PHONE')]}),\n",
       " ('+1 995-765-4530', {'entities': [(0, 15, 'PHONE')]}),\n",
       " ('551 978 8144', {'entities': [(0, 12, 'PHONE')]}),\n",
       " ('+7.(693).480 4334', {'entities': [(0, 17, 'PHONE')]}),\n",
       " ('+2.(294)-415-5499', {'entities': [(0, 17, 'PHONE')]}),\n",
       " ('+16102347339', {'entities': [(0, 12, 'PHONE')]}),\n",
       " ('+3 (768).819.4668', {'entities': [(0, 17, 'PHONE')]}),\n",
       " ('+0-(381)-635.0731', {'entities': [(0, 17, 'PHONE')]}),\n",
       " ('+1 (945) 879-2933', {'entities': [(0, 17, 'PHONE')]})]"
      ]
     },
     "execution_count": 94,
     "metadata": {},
     "output_type": "execute_result"
    }
   ],
   "source": [
    "TRAIN_DATA[-10:]"
   ]
  },
  {
   "cell_type": "markdown",
   "id": "85ae3cda",
   "metadata": {},
   "source": [
    "# Model"
   ]
  },
  {
   "cell_type": "markdown",
   "id": "f560f4cd",
   "metadata": {},
   "source": [
    "### load"
   ]
  },
  {
   "cell_type": "code",
   "execution_count": 95,
   "id": "16eea9a8",
   "metadata": {},
   "outputs": [
    {
     "name": "stdout",
     "output_type": "stream",
     "text": [
      "Model loaded\n"
     ]
    }
   ],
   "source": [
    "# load model\n",
    "nlp = spacy.load('en_core_web_sm')  \n",
    "print(\"Model loaded\")\n",
    "\n",
    "#set up the pipeline\n",
    "\n",
    "if 'ner' not in nlp.pipe_names:\n",
    "    ner = nlp.create_pipe('ner')\n",
    "    nlp.add_pipe(ner, last=True)\n",
    "else:\n",
    "    ner = nlp.get_pipe('ner')"
   ]
  },
  {
   "cell_type": "code",
   "execution_count": 96,
   "id": "2d59c16b",
   "metadata": {},
   "outputs": [
    {
     "data": {
      "text/plain": [
       "['tagger', 'parser', 'ner']"
      ]
     },
     "execution_count": 96,
     "metadata": {},
     "output_type": "execute_result"
    }
   ],
   "source": [
    "nlp.pipe_names"
   ]
  },
  {
   "cell_type": "code",
   "execution_count": 97,
   "id": "925b18bc",
   "metadata": {},
   "outputs": [
    {
     "data": {
      "text/plain": [
       "<spacy.pipeline.pipes.EntityRecognizer at 0x299010054c0>"
      ]
     },
     "execution_count": 97,
     "metadata": {},
     "output_type": "execute_result"
    }
   ],
   "source": [
    "ner"
   ]
  },
  {
   "cell_type": "markdown",
   "id": "5fb84448",
   "metadata": {},
   "source": [
    "### train"
   ]
  },
  {
   "cell_type": "code",
   "execution_count": 98,
   "id": "0294f169",
   "metadata": {},
   "outputs": [
    {
     "name": "stderr",
     "output_type": "stream",
     "text": [
      "100%|██████████████████████████████████████████████████████████████████████████████| 6700/6700 [08:47<00:00, 12.71it/s]\n",
      "  0%|                                                                                 | 2/6700 [00:00<09:36, 11.61it/s]"
     ]
    },
    {
     "name": "stdout",
     "output_type": "stream",
     "text": [
      "t:527.3010256290436\t{'ner': 17638.887911547314}\n"
     ]
    },
    {
     "name": "stderr",
     "output_type": "stream",
     "text": [
      "100%|██████████████████████████████████████████████████████████████████████████████| 6700/6700 [09:08<00:00, 12.21it/s]\n",
      "  0%|                                                                                 | 2/6700 [00:00<09:59, 11.17it/s]"
     ]
    },
    {
     "name": "stdout",
     "output_type": "stream",
     "text": [
      "t:548.7311816215515\t{'ner': 16149.14939398244}\n"
     ]
    },
    {
     "name": "stderr",
     "output_type": "stream",
     "text": [
      "100%|██████████████████████████████████████████████████████████████████████████████| 6700/6700 [08:57<00:00, 12.45it/s]\n",
      "  0%|                                                                                 | 2/6700 [00:00<07:51, 14.21it/s]"
     ]
    },
    {
     "name": "stdout",
     "output_type": "stream",
     "text": [
      "t:537.9407660961151\t{'ner': 15521.476014318034}\n"
     ]
    },
    {
     "name": "stderr",
     "output_type": "stream",
     "text": [
      "100%|██████████████████████████████████████████████████████████████████████████████| 6700/6700 [08:32<00:00, 13.07it/s]\n",
      "  0%|                                                                                 | 2/6700 [00:00<07:18, 15.27it/s]"
     ]
    },
    {
     "name": "stdout",
     "output_type": "stream",
     "text": [
      "t:512.5814142227173\t{'ner': 15641.776689201917}\n"
     ]
    },
    {
     "name": "stderr",
     "output_type": "stream",
     "text": [
      "100%|██████████████████████████████████████████████████████████████████████████████| 6700/6700 [08:42<00:00, 12.81it/s]\n",
      "  0%|                                                                                 | 2/6700 [00:00<09:13, 12.09it/s]"
     ]
    },
    {
     "name": "stdout",
     "output_type": "stream",
     "text": [
      "t:522.8810827732086\t{'ner': 15532.878592632664}\n"
     ]
    },
    {
     "name": "stderr",
     "output_type": "stream",
     "text": [
      "100%|██████████████████████████████████████████████████████████████████████████████| 6700/6700 [09:24<00:00, 11.86it/s]\n",
      "  0%|                                                                                 | 1/6700 [00:00<15:25,  7.24it/s]"
     ]
    },
    {
     "name": "stdout",
     "output_type": "stream",
     "text": [
      "t:564.8687679767609\t{'ner': 15458.144909538147}\n"
     ]
    },
    {
     "name": "stderr",
     "output_type": "stream",
     "text": [
      "100%|██████████████████████████████████████████████████████████████████████████████| 6700/6700 [11:18<00:00,  9.88it/s]\n",
      "  0%|                                                                                         | 0/6700 [00:00<?, ?it/s]"
     ]
    },
    {
     "name": "stdout",
     "output_type": "stream",
     "text": [
      "t:678.4474263191223\t{'ner': 15321.594589240247}\n"
     ]
    },
    {
     "name": "stderr",
     "output_type": "stream",
     "text": [
      "100%|██████████████████████████████████████████████████████████████████████████████| 6700/6700 [11:25<00:00,  9.77it/s]\n",
      "  0%|                                                                                 | 2/6700 [00:00<07:34, 14.75it/s]"
     ]
    },
    {
     "name": "stdout",
     "output_type": "stream",
     "text": [
      "t:685.4371466636658\t{'ner': 15528.711187297919}\n"
     ]
    },
    {
     "name": "stderr",
     "output_type": "stream",
     "text": [
      "100%|██████████████████████████████████████████████████████████████████████████████| 6700/6700 [11:26<00:00,  9.76it/s]\n",
      "  0%|                                                                                 | 1/6700 [00:00<11:31,  9.69it/s]"
     ]
    },
    {
     "name": "stdout",
     "output_type": "stream",
     "text": [
      "t:686.1377377510071\t{'ner': 15253.763574390665}\n"
     ]
    },
    {
     "name": "stderr",
     "output_type": "stream",
     "text": [
      "100%|██████████████████████████████████████████████████████████████████████████████| 6700/6700 [11:10<00:00,  9.99it/s]\n",
      "  0%|                                                                                 | 2/6700 [00:00<05:38, 19.77it/s]"
     ]
    },
    {
     "name": "stdout",
     "output_type": "stream",
     "text": [
      "t:670.7308793067932\t{'ner': 15248.977620899917}\n"
     ]
    },
    {
     "name": "stderr",
     "output_type": "stream",
     "text": [
      "100%|██████████████████████████████████████████████████████████████████████████████| 6700/6700 [07:25<00:00, 15.05it/s]\n",
      "  0%|                                                                                 | 2/6700 [00:00<09:59, 11.17it/s]"
     ]
    },
    {
     "name": "stdout",
     "output_type": "stream",
     "text": [
      "t:445.32083010673523\t{'ner': 15393.161695057768}\n"
     ]
    },
    {
     "name": "stderr",
     "output_type": "stream",
     "text": [
      "100%|███████████████████████████████████████████████████████████████████████████| 6700/6700 [15:52:34<00:00,  8.53s/it]\n",
      "  0%|                                                                                 | 2/6700 [00:00<07:16, 15.35it/s]"
     ]
    },
    {
     "name": "stdout",
     "output_type": "stream",
     "text": [
      "t:57154.440643548965\t{'ner': 15509.54621102179}\n"
     ]
    },
    {
     "name": "stderr",
     "output_type": "stream",
     "text": [
      "100%|██████████████████████████████████████████████████████████████████████████████| 6700/6700 [07:24<00:00, 15.09it/s]\n",
      "  0%|                                                                                 | 2/6700 [00:00<06:33, 17.01it/s]"
     ]
    },
    {
     "name": "stdout",
     "output_type": "stream",
     "text": [
      "t:444.1333954334259\t{'ner': 15299.732333014781}\n"
     ]
    },
    {
     "name": "stderr",
     "output_type": "stream",
     "text": [
      "100%|██████████████████████████████████████████████████████████████████████████████| 6700/6700 [07:31<00:00, 14.84it/s]\n",
      "  0%|                                                                                 | 2/6700 [00:00<07:26, 15.01it/s]"
     ]
    },
    {
     "name": "stdout",
     "output_type": "stream",
     "text": [
      "t:451.4244031906128\t{'ner': 15387.526214542726}\n"
     ]
    },
    {
     "name": "stderr",
     "output_type": "stream",
     "text": [
      "100%|██████████████████████████████████████████████████████████████████████████████| 6700/6700 [08:19<00:00, 13.41it/s]\n",
      "  0%|                                                                                 | 2/6700 [00:00<08:52, 12.58it/s]"
     ]
    },
    {
     "name": "stdout",
     "output_type": "stream",
     "text": [
      "t:499.7312581539154\t{'ner': 15218.680126901034}\n"
     ]
    },
    {
     "name": "stderr",
     "output_type": "stream",
     "text": [
      "100%|██████████████████████████████████████████████████████████████████████████████| 6700/6700 [08:59<00:00, 12.43it/s]\n",
      "  0%|                                                                                 | 2/6700 [00:00<09:35, 11.64it/s]"
     ]
    },
    {
     "name": "stdout",
     "output_type": "stream",
     "text": [
      "t:539.1376550197601\t{'ner': 15282.173661301555}\n"
     ]
    },
    {
     "name": "stderr",
     "output_type": "stream",
     "text": [
      "100%|██████████████████████████████████████████████████████████████████████████████| 6700/6700 [08:02<00:00, 13.88it/s]\n",
      "  0%|                                                                                 | 2/6700 [00:00<08:32, 13.07it/s]"
     ]
    },
    {
     "name": "stdout",
     "output_type": "stream",
     "text": [
      "t:482.7048680782318\t{'ner': 15404.734739058347}\n"
     ]
    },
    {
     "name": "stderr",
     "output_type": "stream",
     "text": [
      "100%|██████████████████████████████████████████████████████████████████████████████| 6700/6700 [09:30<00:00, 11.75it/s]\n",
      "  0%|                                                                                 | 2/6700 [00:00<09:16, 12.03it/s]"
     ]
    },
    {
     "name": "stdout",
     "output_type": "stream",
     "text": [
      "t:570.4524850845337\t{'ner': 15458.806988648857}\n"
     ]
    },
    {
     "name": "stderr",
     "output_type": "stream",
     "text": [
      "100%|██████████████████████████████████████████████████████████████████████████████| 6700/6700 [09:16<00:00, 12.04it/s]\n",
      "  0%|                                                                                 | 2/6700 [00:00<09:01, 12.38it/s]"
     ]
    },
    {
     "name": "stdout",
     "output_type": "stream",
     "text": [
      "t:556.5537662506104\t{'ner': 15308.487770590888}\n"
     ]
    },
    {
     "name": "stderr",
     "output_type": "stream",
     "text": [
      "100%|██████████████████████████████████████████████████████████████████████████████| 6700/6700 [09:07<00:00, 12.24it/s]\n",
      "  0%|                                                                                 | 2/6700 [00:00<08:24, 13.28it/s]"
     ]
    },
    {
     "name": "stdout",
     "output_type": "stream",
     "text": [
      "t:547.2020313739777\t{'ner': 15474.149386067449}\n"
     ]
    },
    {
     "name": "stderr",
     "output_type": "stream",
     "text": [
      "100%|██████████████████████████████████████████████████████████████████████████████| 6700/6700 [09:05<00:00, 12.27it/s]\n",
      "  0%|                                                                                 | 2/6700 [00:00<08:12, 13.59it/s]"
     ]
    },
    {
     "name": "stdout",
     "output_type": "stream",
     "text": [
      "t:545.8417272567749\t{'ner': 15502.651523485572}\n"
     ]
    },
    {
     "name": "stderr",
     "output_type": "stream",
     "text": [
      "100%|██████████████████████████████████████████████████████████████████████████████| 6700/6700 [09:29<00:00, 11.77it/s]\n",
      "  0%|                                                                                 | 2/6700 [00:00<07:42, 14.49it/s]"
     ]
    },
    {
     "name": "stdout",
     "output_type": "stream",
     "text": [
      "t:569.3568961620331\t{'ner': 15284.096107997122}\n"
     ]
    },
    {
     "name": "stderr",
     "output_type": "stream",
     "text": [
      "100%|██████████████████████████████████████████████████████████████████████████████| 6700/6700 [09:21<00:00, 11.93it/s]\n",
      "  0%|                                                                                 | 1/6700 [00:00<12:26,  8.98it/s]"
     ]
    },
    {
     "name": "stdout",
     "output_type": "stream",
     "text": [
      "t:561.7874991893768\t{'ner': 15490.785928772262}\n"
     ]
    },
    {
     "name": "stderr",
     "output_type": "stream",
     "text": [
      "100%|██████████████████████████████████████████████████████████████████████████████| 6700/6700 [09:39<00:00, 11.57it/s]\n",
      "  0%|                                                                                         | 0/6700 [00:00<?, ?it/s]"
     ]
    },
    {
     "name": "stdout",
     "output_type": "stream",
     "text": [
      "t:579.1214370727539\t{'ner': 15475.558139838387}\n"
     ]
    },
    {
     "name": "stderr",
     "output_type": "stream",
     "text": [
      "100%|██████████████████████████████████████████████████████████████████████████████| 6700/6700 [09:48<00:00, 11.39it/s]\n",
      "  0%|                                                                                 | 2/6700 [00:00<08:22, 13.33it/s]"
     ]
    },
    {
     "name": "stdout",
     "output_type": "stream",
     "text": [
      "t:588.4969365596771\t{'ner': 15464.272327768194}\n"
     ]
    },
    {
     "name": "stderr",
     "output_type": "stream",
     "text": [
      "100%|██████████████████████████████████████████████████████████████████████████████| 6700/6700 [09:01<00:00, 12.36it/s]\n",
      "  0%|                                                                                 | 2/6700 [00:00<09:23, 11.89it/s]"
     ]
    },
    {
     "name": "stdout",
     "output_type": "stream",
     "text": [
      "t:541.8881475925446\t{'ner': 15359.981092274724}\n"
     ]
    },
    {
     "name": "stderr",
     "output_type": "stream",
     "text": [
      "100%|██████████████████████████████████████████████████████████████████████████████| 6700/6700 [08:56<00:00, 12.50it/s]\n",
      "  0%|                                                                                 | 2/6700 [00:00<09:30, 11.74it/s]"
     ]
    },
    {
     "name": "stdout",
     "output_type": "stream",
     "text": [
      "t:536.1348550319672\t{'ner': 15549.49531828538}\n"
     ]
    },
    {
     "name": "stderr",
     "output_type": "stream",
     "text": [
      "100%|██████████████████████████████████████████████████████████████████████████████| 6700/6700 [10:02<00:00, 11.12it/s]\n",
      "  0%|                                                                                 | 2/6700 [00:00<09:16, 12.04it/s]"
     ]
    },
    {
     "name": "stdout",
     "output_type": "stream",
     "text": [
      "t:602.6763031482697\t{'ner': 15608.52637454117}\n"
     ]
    },
    {
     "name": "stderr",
     "output_type": "stream",
     "text": [
      "100%|██████████████████████████████████████████████████████████████████████████████| 6700/6700 [09:48<00:00, 11.39it/s]\n",
      "  0%|                                                                                 | 2/6700 [00:00<09:42, 11.49it/s]"
     ]
    },
    {
     "name": "stdout",
     "output_type": "stream",
     "text": [
      "t:588.3951013088226\t{'ner': 15487.922938745101}\n"
     ]
    },
    {
     "name": "stderr",
     "output_type": "stream",
     "text": [
      "100%|██████████████████████████████████████████████████████████████████████████████| 6700/6700 [10:16<00:00, 10.87it/s]\n",
      "  0%|                                                                                 | 2/6700 [00:00<09:56, 11.24it/s]"
     ]
    },
    {
     "name": "stdout",
     "output_type": "stream",
     "text": [
      "t:616.1677544116974\t{'ner': 15525.811214801815}\n"
     ]
    },
    {
     "name": "stderr",
     "output_type": "stream",
     "text": [
      "100%|██████████████████████████████████████████████████████████████████████████████| 6700/6700 [08:52<00:00, 12.58it/s]\n",
      "  0%|                                                                                 | 2/6700 [00:00<08:10, 13.64it/s]"
     ]
    },
    {
     "name": "stdout",
     "output_type": "stream",
     "text": [
      "t:532.5624620914459\t{'ner': 15415.328714291289}\n"
     ]
    },
    {
     "name": "stderr",
     "output_type": "stream",
     "text": [
      "100%|██████████████████████████████████████████████████████████████████████████████| 6700/6700 [08:20<00:00, 13.38it/s]\n",
      "  0%|                                                                                 | 2/6700 [00:00<07:35, 14.70it/s]"
     ]
    },
    {
     "name": "stdout",
     "output_type": "stream",
     "text": [
      "t:500.77957677841187\t{'ner': 15276.29907814089}\n"
     ]
    },
    {
     "name": "stderr",
     "output_type": "stream",
     "text": [
      "100%|██████████████████████████████████████████████████████████████████████████████| 6700/6700 [08:19<00:00, 13.41it/s]\n",
      "  0%|                                                                                 | 2/6700 [00:00<07:52, 14.16it/s]"
     ]
    },
    {
     "name": "stdout",
     "output_type": "stream",
     "text": [
      "t:499.6730456352234\t{'ner': 15544.648153099139}\n"
     ]
    },
    {
     "name": "stderr",
     "output_type": "stream",
     "text": [
      "100%|██████████████████████████████████████████████████████████████████████████████| 6700/6700 [08:16<00:00, 13.49it/s]\n",
      "  0%|                                                                                 | 2/6700 [00:00<08:04, 13.83it/s]"
     ]
    },
    {
     "name": "stdout",
     "output_type": "stream",
     "text": [
      "t:496.5537829399109\t{'ner': 15465.01425478943}\n"
     ]
    },
    {
     "name": "stderr",
     "output_type": "stream",
     "text": [
      "100%|██████████████████████████████████████████████████████████████████████████████| 6700/6700 [08:55<00:00, 12.51it/s]\n",
      "  0%|                                                                                 | 2/6700 [00:00<09:22, 11.90it/s]"
     ]
    },
    {
     "name": "stdout",
     "output_type": "stream",
     "text": [
      "t:535.5794496536255\t{'ner': 15440.296046555113}\n"
     ]
    },
    {
     "name": "stderr",
     "output_type": "stream",
     "text": [
      "100%|██████████████████████████████████████████████████████████████████████████████| 6700/6700 [09:24<00:00, 11.87it/s]\n",
      "  0%|                                                                                 | 2/6700 [00:00<08:53, 12.56it/s]"
     ]
    },
    {
     "name": "stdout",
     "output_type": "stream",
     "text": [
      "t:564.6243178844452\t{'ner': 15501.422416101772}\n"
     ]
    },
    {
     "name": "stderr",
     "output_type": "stream",
     "text": [
      "100%|██████████████████████████████████████████████████████████████████████████████| 6700/6700 [09:08<00:00, 12.21it/s]\n",
      "  0%|                                                                                 | 2/6700 [00:00<08:32, 13.06it/s]"
     ]
    },
    {
     "name": "stdout",
     "output_type": "stream",
     "text": [
      "t:548.5859892368317\t{'ner': 15441.717721933675}\n"
     ]
    },
    {
     "name": "stderr",
     "output_type": "stream",
     "text": [
      "100%|██████████████████████████████████████████████████████████████████████████████| 6700/6700 [09:08<00:00, 12.22it/s]\n",
      "  0%|                                                                                 | 2/6700 [00:00<09:29, 11.75it/s]"
     ]
    },
    {
     "name": "stdout",
     "output_type": "stream",
     "text": [
      "t:548.185868024826\t{'ner': 15704.820254443854}\n"
     ]
    },
    {
     "name": "stderr",
     "output_type": "stream",
     "text": [
      "100%|██████████████████████████████████████████████████████████████████████████████| 6700/6700 [09:09<00:00, 12.20it/s]\n",
      "  0%|                                                                                 | 2/6700 [00:00<09:00, 12.40it/s]"
     ]
    },
    {
     "name": "stdout",
     "output_type": "stream",
     "text": [
      "t:549.3895680904388\t{'ner': 15594.881770063817}\n"
     ]
    },
    {
     "name": "stderr",
     "output_type": "stream",
     "text": [
      "100%|██████████████████████████████████████████████████████████████████████████████| 6700/6700 [08:34<00:00, 13.01it/s]\n",
      "  0%|                                                                                 | 2/6700 [00:00<08:05, 13.81it/s]"
     ]
    },
    {
     "name": "stdout",
     "output_type": "stream",
     "text": [
      "t:514.8238291740417\t{'ner': 15469.41903139613}\n"
     ]
    },
    {
     "name": "stderr",
     "output_type": "stream",
     "text": [
      "100%|██████████████████████████████████████████████████████████████████████████████| 6700/6700 [08:27<00:00, 13.20it/s]\n",
      "  0%|                                                                                 | 2/6700 [00:00<07:57, 14.03it/s]"
     ]
    },
    {
     "name": "stdout",
     "output_type": "stream",
     "text": [
      "t:507.48176288604736\t{'ner': 15530.214493742264}\n"
     ]
    },
    {
     "name": "stderr",
     "output_type": "stream",
     "text": [
      "100%|██████████████████████████████████████████████████████████████████████████████| 6700/6700 [08:44<00:00, 12.77it/s]\n",
      "  0%|                                                                                 | 1/6700 [00:00<12:36,  8.86it/s]"
     ]
    },
    {
     "name": "stdout",
     "output_type": "stream",
     "text": [
      "t:524.6264808177948\t{'ner': 15438.436614486007}\n"
     ]
    },
    {
     "name": "stderr",
     "output_type": "stream",
     "text": [
      "100%|██████████████████████████████████████████████████████████████████████████████| 6700/6700 [08:33<00:00, 13.06it/s]\n",
      "  0%|                                                                                 | 1/6700 [00:00<16:35,  6.73it/s]"
     ]
    },
    {
     "name": "stdout",
     "output_type": "stream",
     "text": [
      "t:513.2032594680786\t{'ner': 15593.581602048354}\n"
     ]
    },
    {
     "name": "stderr",
     "output_type": "stream",
     "text": [
      "100%|██████████████████████████████████████████████████████████████████████████████| 6700/6700 [08:30<00:00, 13.12it/s]\n",
      "  0%|                                                                                 | 2/6700 [00:00<08:15, 13.53it/s]"
     ]
    },
    {
     "name": "stdout",
     "output_type": "stream",
     "text": [
      "t:510.5876486301422\t{'ner': 15583.523384026512}\n"
     ]
    },
    {
     "name": "stderr",
     "output_type": "stream",
     "text": [
      "100%|██████████████████████████████████████████████████████████████████████████████| 6700/6700 [08:30<00:00, 13.12it/s]\n",
      "  0%|                                                                                 | 2/6700 [00:00<08:24, 13.28it/s]"
     ]
    },
    {
     "name": "stdout",
     "output_type": "stream",
     "text": [
      "t:510.84014320373535\t{'ner': 15696.70593512132}\n"
     ]
    },
    {
     "name": "stderr",
     "output_type": "stream",
     "text": [
      "100%|██████████████████████████████████████████████████████████████████████████████| 6700/6700 [08:32<00:00, 13.07it/s]\n",
      "  0%|                                                                                 | 1/6700 [00:00<11:54,  9.38it/s]"
     ]
    },
    {
     "name": "stdout",
     "output_type": "stream",
     "text": [
      "t:512.7981867790222\t{'ner': 15616.212403604997}\n"
     ]
    },
    {
     "name": "stderr",
     "output_type": "stream",
     "text": [
      "100%|██████████████████████████████████████████████████████████████████████████████| 6700/6700 [09:32<00:00, 11.70it/s]\n",
      "  0%|                                                                                 | 2/6700 [00:00<08:44, 12.77it/s]"
     ]
    },
    {
     "name": "stdout",
     "output_type": "stream",
     "text": [
      "t:572.836761713028\t{'ner': 15755.396491781543}\n"
     ]
    },
    {
     "name": "stderr",
     "output_type": "stream",
     "text": [
      "100%|██████████████████████████████████████████████████████████████████████████████| 6700/6700 [09:26<00:00, 11.82it/s]\n",
      "  0%|                                                                                 | 2/6700 [00:00<08:59, 12.41it/s]"
     ]
    },
    {
     "name": "stdout",
     "output_type": "stream",
     "text": [
      "t:566.9180226325989\t{'ner': 15492.81969218689}\n"
     ]
    },
    {
     "name": "stderr",
     "output_type": "stream",
     "text": [
      "100%|██████████████████████████████████████████████████████████████████████████████| 6700/6700 [09:24<00:00, 11.86it/s]\n",
      "  0%|                                                                                 | 2/6700 [00:00<09:40, 11.54it/s]"
     ]
    },
    {
     "name": "stdout",
     "output_type": "stream",
     "text": [
      "t:564.7556402683258\t{'ner': 15611.32711907463}\n"
     ]
    },
    {
     "name": "stderr",
     "output_type": "stream",
     "text": [
      "100%|██████████████████████████████████████████████████████████████████████████████| 6700/6700 [09:25<00:00, 11.84it/s]"
     ]
    },
    {
     "name": "stdout",
     "output_type": "stream",
     "text": [
      "t:565.9345936775208\t{'ner': 15745.414783854812}\n",
      "\n",
      "\n",
      " Total Training time: 83996.78734016418 seconds\n"
     ]
    },
    {
     "name": "stderr",
     "output_type": "stream",
     "text": [
      "\n"
     ]
    }
   ],
   "source": [
    "n_iter = 50\n",
    "drop = 0.5\n",
    "\n",
    "for _, annotations in TRAIN_DATA:\n",
    "    for ent in annotations.get('entities'):\n",
    "        ner.add_label(ent[2])\n",
    "\n",
    "other_pipes = [pipe for pipe in nlp.pipe_names if pipe != 'ner']\n",
    "with nlp.disable_pipes(*other_pipes):  # only train NER\n",
    "    optimizer = nlp.begin_training()\n",
    "    with open('log\\\\log_train_'+str(datetime.now().strftime(\"%Y%m%d_%H%M%S\"))+'.txt','w') as logfile:\n",
    "        logfile.write('Training points: '+str(len(TRAIN_DATA))+'\\n')\n",
    "        logfile.write('Iterations: '+str(n_iter)+ '\\n')\n",
    "        logfile.write('drop: '+ str(drop) + '\\n\\n')\n",
    "        start_outer = time.time()\n",
    "        \n",
    "        for itn in range(n_iter):\n",
    "            start_inner = time.time()\n",
    "            random.shuffle(TRAIN_DATA)\n",
    "            losses = {}\n",
    "            for text, annotations in tqdm(TRAIN_DATA):\n",
    "                nlp.update(\n",
    "                    [text],  \n",
    "                    [annotations],  \n",
    "                    drop=drop,  \n",
    "                    sgd=optimizer,\n",
    "                    losses=losses)\n",
    "            \n",
    "            stop_inner = time.time()\n",
    "            print(str(itn) +'\\t'+ 't:'+str(stop_inner - start_inner) +'\\t'+ str(losses))\n",
    "            logfile.write(str(itn)+'\\t'+'t: '+str(stop_inner - start_inner)+'\\t'+str(losses)+'\\n')\n",
    "        \n",
    "        stop_outer = time.time()\n",
    "        print(f'\\n\\n Total Training time: {stop_outer-start_outer} seconds')\n",
    "        logfile.write('\\n\\nTotal Training time: '+ str(stop_outer - start_outer)+ ' s')\n",
    "        logfile.close()\n"
   ]
  },
  {
   "cell_type": "markdown",
   "id": "e017dc13",
   "metadata": {},
   "source": [
    "### Save"
   ]
  },
  {
   "cell_type": "code",
   "execution_count": 99,
   "id": "53616174",
   "metadata": {},
   "outputs": [
    {
     "name": "stdout",
     "output_type": "stream",
     "text": [
      "Saved model to model_spacy_email_phone_addr_update_pretrained\n"
     ]
    }
   ],
   "source": [
    "# save model\n",
    "output_dir = 'model_spacy_email_phone_addr_update_pretrained'\n",
    "\n",
    "nlp.to_disk(output_dir)\n",
    "print(\"Saved model to\", output_dir)"
   ]
  },
  {
   "cell_type": "markdown",
   "id": "9d3ee62f",
   "metadata": {},
   "source": [
    "### test - general"
   ]
  },
  {
   "cell_type": "code",
   "execution_count": 100,
   "id": "8e9f95ac",
   "metadata": {},
   "outputs": [
    {
     "name": "stdout",
     "output_type": "stream",
     "text": [
      "[('amsf.as@yahoo.com', 'EMAIL')]\n"
     ]
    }
   ],
   "source": [
    "doc = nlp(\"amsf.as@yahoo.com\")\n",
    "print([(X.text, X.label_) for X in doc.ents])"
   ]
  },
  {
   "cell_type": "code",
   "execution_count": 101,
   "id": "bca60de1",
   "metadata": {},
   "outputs": [
    {
     "name": "stdout",
     "output_type": "stream",
     "text": [
      "[('+16102899411', 'PHONE')]\n"
     ]
    }
   ],
   "source": [
    "doc = nlp(\"+16102899411\")\n",
    "print([(X.text, X.label_) for X in doc.ents])"
   ]
  },
  {
   "cell_type": "code",
   "execution_count": 102,
   "id": "2f941e0b",
   "metadata": {},
   "outputs": [
    {
     "name": "stdout",
     "output_type": "stream",
     "text": [
      "[('302 Park street', 'ADDR')]\n"
     ]
    }
   ],
   "source": [
    "doc = nlp(\"302 Park street\")\n",
    "print([(X.text, X.label_) for X in doc.ents])"
   ]
  },
  {
   "cell_type": "code",
   "execution_count": 103,
   "id": "82b879fe",
   "metadata": {},
   "outputs": [
    {
     "name": "stdout",
     "output_type": "stream",
     "text": [
      "[('909 FANNIN TWO HOUSTON CENTER, SUITE 2310', 'ADDR')]\n"
     ]
    }
   ],
   "source": [
    "doc = nlp(\"909 FANNIN TWO HOUSTON CENTER, SUITE 2310\")\n",
    "print([(X.text, X.label_) for X in doc.ents])"
   ]
  },
  {
   "cell_type": "code",
   "execution_count": 104,
   "id": "ca8bd080",
   "metadata": {},
   "outputs": [
    {
     "name": "stdout",
     "output_type": "stream",
     "text": [
      "[('+159901011', 'PHONE')]\n"
     ]
    }
   ],
   "source": [
    "doc = nlp(\"+159901011\")\n",
    "print([(X.text, X.label_) for X in doc.ents])"
   ]
  },
  {
   "cell_type": "code",
   "execution_count": 105,
   "id": "92862c64",
   "metadata": {},
   "outputs": [
    {
     "name": "stdout",
     "output_type": "stream",
     "text": [
      "[]\n"
     ]
    }
   ],
   "source": [
    "doc = nlp(\"DUKE ENERGY TRADING AND MARKETING\")\n",
    "print([(X.text, X.label_) for X in doc.ents])"
   ]
  },
  {
   "cell_type": "code",
   "execution_count": 106,
   "id": "03f09edc",
   "metadata": {},
   "outputs": [
    {
     "name": "stdout",
     "output_type": "stream",
     "text": [
      "[]\n"
     ]
    }
   ],
   "source": [
    "doc = nlp(\"New york\")\n",
    "print([(X.text, X.label_) for X in doc.ents])"
   ]
  },
  {
   "cell_type": "code",
   "execution_count": 107,
   "id": "4b4ef92f",
   "metadata": {},
   "outputs": [
    {
     "name": "stdout",
     "output_type": "stream",
     "text": [
      "[]\n"
     ]
    }
   ],
   "source": [
    "doc = nlp(\"LA\")\n",
    "print([(X.text, X.label_) for X in doc.ents])"
   ]
  },
  {
   "cell_type": "code",
   "execution_count": 108,
   "id": "ff0a1c4d",
   "metadata": {},
   "outputs": [
    {
     "name": "stdout",
     "output_type": "stream",
     "text": [
      "[]\n"
     ]
    }
   ],
   "source": [
    "doc = nlp(\"495668\")\n",
    "print([(X.text, X.label_) for X in doc.ents])"
   ]
  },
  {
   "cell_type": "code",
   "execution_count": 127,
   "id": "fadafb3d",
   "metadata": {},
   "outputs": [
    {
     "name": "stdout",
     "output_type": "stream",
     "text": [
      "[]\n"
     ]
    }
   ],
   "source": [
    "doc = nlp(\"Microsoft\")\n",
    "print([(X.text, X.label_) for X in doc.ents])"
   ]
  },
  {
   "cell_type": "code",
   "execution_count": 129,
   "id": "84238f5e",
   "metadata": {},
   "outputs": [
    {
     "name": "stdout",
     "output_type": "stream",
     "text": [
      "[]\n"
     ]
    }
   ],
   "source": [
    "doc = nlp(\"https://www.google.com\")\n",
    "print([(X.text, X.label_) for X in doc.ents])"
   ]
  },
  {
   "cell_type": "code",
   "execution_count": 130,
   "id": "8865cc9d",
   "metadata": {},
   "outputs": [
    {
     "name": "stdout",
     "output_type": "stream",
     "text": [
      "[]\n"
     ]
    }
   ],
   "source": [
    "doc = nlp(\"english\")\n",
    "print([(X.text, X.label_) for X in doc.ents])"
   ]
  }
 ],
 "metadata": {
  "kernelspec": {
   "display_name": "Python 3",
   "language": "python",
   "name": "python3"
  },
  "language_info": {
   "codemirror_mode": {
    "name": "ipython",
    "version": 3
   },
   "file_extension": ".py",
   "mimetype": "text/x-python",
   "name": "python",
   "nbconvert_exporter": "python",
   "pygments_lexer": "ipython3",
   "version": "3.9.4"
  }
 },
 "nbformat": 4,
 "nbformat_minor": 5
}
